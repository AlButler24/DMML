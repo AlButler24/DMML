{
 "cells": [
  {
   "cell_type": "code",
   "execution_count": 4,
   "id": "6d33831a-e4d2-4193-95a0-03e7695fffb3",
   "metadata": {},
   "outputs": [
    {
     "name": "stdout",
     "output_type": "stream",
     "text": [
      "Loading dataset...\n",
      "Dataset shape: (27000, 3072)\n",
      "Number of classes: 10\n",
      "\n",
      "Testing specific image retrieval:\n",
      "Image shape: (3072,)\n",
      "Image class: AnnualCrop\n",
      "First few pixel values: [149. 121. 120. 148. 119. 120. 150. 120. 122. 148.]\n"
     ]
    },
    {
     "data": {
      "image/png": "[encoded data removed]",
      "text/plain": [
       "<Figure size 500x500 with 1 Axes>"
      ]
     },
     "metadata": {},
     "output_type": "display_data"
    }
   ],
   "source": [
    "# Import the COC131 class\n",
    "from coursework import COC131\n",
    "\n",
    "# Create an instance of the class\n",
    "coc_instance = COC131()\n",
    "\n",
    "# Test 1: Load the entire dataset\n",
    "print(\"Loading dataset...\")\n",
    "coc_instance.q1()\n",
    "\n",
    "# Check if data was loaded properly\n",
    "print(f\"Dataset shape: {coc_instance.x.shape if hasattr(coc_instance, 'x') else 'Not loaded'}\")\n",
    "print(f\"Number of classes: {len(set(coc_instance.y)) if hasattr(coc_instance, 'y') else 'Not loaded'}\")\n",
    "\n",
    "# Test 2: Check a random image (if you know a specific filename)\n",
    "# Replace \"sample_image.jpg\" with an actual image filename from your dataset\n",
    "test_filename = \"AnnualCrop_1.jpg\"  # Change this to a real filename in your dataset\n",
    "img_array, class_name = coc_instance.q1(filename=test_filename)\n",
    "\n",
    "print(f\"\\nTesting specific image retrieval:\")\n",
    "print(f\"Image shape: {img_array.shape}\")\n",
    "print(f\"Image class: {class_name}\")\n",
    "print(f\"First few pixel values: {img_array[:10]}\")\n",
    "\n",
    "# Visualize the specific image that was returned\n",
    "if img_array is not None:\n",
    "    # Reshape the specific image back to 32x32x3\n",
    "    specific_img = img_array.reshape(32, 32, 3)\n",
    "    \n",
    "    # Since these are float values, we need to ensure they're in a valid range for display\n",
    "    specific_img = np.clip(specific_img, 0, 255).astype(np.uint8)\n",
    "    \n",
    "    plt.figure(figsize=(5, 5))\n",
    "    plt.imshow(specific_img)\n",
    "    plt.title(f\"Specific image from class: {class_name}\")\n",
    "    plt.axis('off')\n",
    "    plt.show()"
   ]
  },
  {
   "cell_type": "code",
   "execution_count": null,
   "id": "c860df90-ff17-4128-8e34-c73b00068e57",
   "metadata": {},
   "outputs": [],
   "source": []
  }
 ],
 "metadata": {
  "kernelspec": {
   "display_name": "Python 3 (ipykernel)",
   "language": "python",
   "name": "python3"
  },
  "language_info": {
   "codemirror_mode": {
    "name": "ipython",
    "version": 3
   },
   "file_extension": ".py",
   "mimetype": "text/x-python",
   "name": "python",
   "nbconvert_exporter": "python",
   "pygments_lexer": "ipython3",
   "version": "3.13.2"
  }
 },
 "nbformat": 4,
 "nbformat_minor": 5
}
